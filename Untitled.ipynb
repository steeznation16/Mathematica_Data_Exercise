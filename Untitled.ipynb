{
 "cells": [
  {
   "cell_type": "markdown",
   "metadata": {
    "toc": true
   },
   "source": [
    "<h1>Table of Contents<span class=\"tocSkip\"></span></h1>\n",
    "<div class=\"toc\"><ul class=\"toc-item\"></ul></div>"
   ]
  },
  {
   "cell_type": "code",
   "execution_count": 16,
   "metadata": {},
   "outputs": [],
   "source": [
    "nums = [2, 7, 1, 5, 10]"
   ]
  },
  {
   "cell_type": "code",
   "execution_count": 17,
   "metadata": {},
   "outputs": [],
   "source": [
    "import numpy as np"
   ]
  },
  {
   "cell_type": "code",
   "execution_count": 18,
   "metadata": {},
   "outputs": [],
   "source": [
    "candidate = 8.2"
   ]
  },
  {
   "cell_type": "code",
   "execution_count": 19,
   "metadata": {},
   "outputs": [
    {
     "data": {
      "text/plain": [
       "38.43999999999999"
      ]
     },
     "execution_count": 19,
     "metadata": {},
     "output_type": "execute_result"
    }
   ],
   "source": [
    "x = 2 - 8.2\n",
    "x**2"
   ]
  },
  {
   "cell_type": "code",
   "execution_count": 46,
   "metadata": {},
   "outputs": [],
   "source": [
    "def sum_sq(nums, candidate):\n",
    "    total = 0\n",
    "    for num in nums:\n",
    "        x = num - candidate\n",
    "        tot = x**2\n",
    "        total += tot\n",
    "    return total"
   ]
  },
  {
   "cell_type": "code",
   "execution_count": 47,
   "metadata": {},
   "outputs": [
    {
     "data": {
      "text/plain": [
       "105.19999999999997"
      ]
     },
     "execution_count": 47,
     "metadata": {},
     "output_type": "execute_result"
    }
   ],
   "source": [
    "sum_sq(nums, candidate)"
   ]
  },
  {
   "cell_type": "code",
   "execution_count": 48,
   "metadata": {},
   "outputs": [],
   "source": [
    "options = list(np.linspace(0, 10, 101))"
   ]
  },
  {
   "cell_type": "code",
   "execution_count": 56,
   "metadata": {},
   "outputs": [
    {
     "name": "stdout",
     "output_type": "stream",
     "text": [
      "54.0 5.0\n"
     ]
    }
   ],
   "source": [
    "x = 100000\n",
    "for option in options:\n",
    "    a = sum_sq(nums, option)\n",
    "    if a < x:\n",
    "        x = a\n",
    "        candidate = option\n",
    "    else:\n",
    "        pass\n",
    "print(x, candidate)"
   ]
  },
  {
   "cell_type": "code",
   "execution_count": 55,
   "metadata": {
    "collapsed": true
   },
   "outputs": [
    {
     "name": "stdout",
     "output_type": "stream",
     "text": [
      "179.0\n",
      "174.05\n",
      "169.20000000000002\n",
      "164.45\n",
      "159.79999999999998\n",
      "155.25\n",
      "150.8\n",
      "146.45\n",
      "142.2\n",
      "138.04999999999998\n",
      "134.0\n",
      "130.05\n",
      "126.20000000000002\n",
      "122.44999999999999\n",
      "118.79999999999998\n",
      "115.25\n",
      "111.80000000000001\n",
      "108.45000000000002\n",
      "105.2\n",
      "102.05\n",
      "99.0\n",
      "96.05000000000001\n",
      "93.19999999999999\n",
      "90.44999999999999\n",
      "87.8\n",
      "85.25\n",
      "82.80000000000001\n",
      "80.45\n",
      "78.19999999999999\n",
      "76.05\n",
      "74.0\n",
      "72.05000000000001\n",
      "70.19999999999999\n",
      "68.44999999999999\n",
      "66.8\n",
      "65.25\n",
      "63.80000000000001\n",
      "62.449999999999996\n",
      "61.19999999999999\n",
      "60.05\n",
      "59.0\n",
      "58.05\n",
      "57.2\n",
      "56.45\n",
      "55.8\n",
      "55.25\n",
      "54.8\n",
      "54.45\n",
      "54.199999999999996\n",
      "54.05\n",
      "54.0\n",
      "54.050000000000004\n",
      "54.2\n",
      "54.45\n",
      "54.800000000000004\n",
      "55.25\n",
      "55.8\n",
      "56.45\n",
      "57.2\n",
      "58.05000000000001\n",
      "59.0\n",
      "60.050000000000004\n",
      "61.2\n",
      "62.45\n",
      "63.80000000000001\n",
      "65.25\n",
      "66.80000000000001\n",
      "68.45\n",
      "70.20000000000002\n",
      "72.05000000000001\n",
      "74.0\n",
      "76.05000000000001\n",
      "78.20000000000002\n",
      "80.45000000000002\n",
      "82.80000000000001\n",
      "85.25\n",
      "87.80000000000001\n",
      "90.45000000000002\n",
      "93.20000000000002\n",
      "96.05000000000001\n",
      "99.0\n",
      "102.04999999999998\n",
      "105.20000000000003\n",
      "108.45000000000003\n",
      "111.80000000000001\n",
      "115.25\n",
      "118.8\n",
      "122.45000000000003\n",
      "126.20000000000002\n",
      "130.05\n",
      "134.0\n",
      "138.04999999999998\n",
      "142.20000000000005\n",
      "146.45000000000005\n",
      "150.80000000000004\n",
      "155.25\n",
      "159.80000000000007\n",
      "164.45000000000005\n",
      "169.20000000000002\n",
      "174.05\n",
      "179.0\n"
     ]
    }
   ],
   "source": [
    "for option in options:\n",
    "    a = sum_sq(nums, option)\n",
    "    print(a)"
   ]
  },
  {
   "cell_type": "code",
   "execution_count": null,
   "metadata": {},
   "outputs": [],
   "source": []
  },
  {
   "cell_type": "code",
   "execution_count": null,
   "metadata": {},
   "outputs": [],
   "source": []
  },
  {
   "cell_type": "code",
   "execution_count": null,
   "metadata": {},
   "outputs": [],
   "source": []
  },
  {
   "cell_type": "code",
   "execution_count": null,
   "metadata": {},
   "outputs": [],
   "source": []
  },
  {
   "cell_type": "code",
   "execution_count": null,
   "metadata": {},
   "outputs": [],
   "source": []
  },
  {
   "cell_type": "code",
   "execution_count": 21,
   "metadata": {},
   "outputs": [
    {
     "name": "stdout",
     "output_type": "stream",
     "text": [
      "38.44\n",
      "38.44\n",
      "\n",
      "1.44\n",
      "39.88\n",
      "\n",
      "51.84\n",
      "91.72\n",
      "\n",
      "10.24\n",
      "101.96\n",
      "\n",
      "3.24\n",
      "105.2\n",
      "\n"
     ]
    }
   ],
   "source": [
    "total = 0\n",
    "for num in nums:\n",
    "    x = num - 8.2\n",
    "    tot = x**2\n",
    "    tot = round(tot, 2)\n",
    "    total += tot\n",
    "    print(tot)\n",
    "    print(round(total, 2))\n",
    "    print()"
   ]
  },
  {
   "cell_type": "code",
   "execution_count": 8,
   "metadata": {},
   "outputs": [
    {
     "data": {
      "text/plain": [
       "140.39999999999995"
      ]
     },
     "execution_count": 8,
     "metadata": {},
     "output_type": "execute_result"
    }
   ],
   "source": [
    "total"
   ]
  },
  {
   "cell_type": "code",
   "execution_count": null,
   "metadata": {},
   "outputs": [],
   "source": []
  },
  {
   "cell_type": "code",
   "execution_count": null,
   "metadata": {},
   "outputs": [],
   "source": []
  },
  {
   "cell_type": "code",
   "execution_count": null,
   "metadata": {},
   "outputs": [],
   "source": []
  },
  {
   "cell_type": "code",
   "execution_count": null,
   "metadata": {},
   "outputs": [],
   "source": []
  }
 ],
 "metadata": {
  "kernelspec": {
   "display_name": "Python 3",
   "language": "python",
   "name": "python3"
  },
  "language_info": {
   "codemirror_mode": {
    "name": "ipython",
    "version": 3
   },
   "file_extension": ".py",
   "mimetype": "text/x-python",
   "name": "python",
   "nbconvert_exporter": "python",
   "pygments_lexer": "ipython3",
   "version": "3.7.1"
  },
  "toc": {
   "base_numbering": 1,
   "nav_menu": {},
   "number_sections": false,
   "sideBar": true,
   "skip_h1_title": false,
   "title_cell": "Table of Contents",
   "title_sidebar": "Contents",
   "toc_cell": true,
   "toc_position": {},
   "toc_section_display": true,
   "toc_window_display": false
  }
 },
 "nbformat": 4,
 "nbformat_minor": 2
}
