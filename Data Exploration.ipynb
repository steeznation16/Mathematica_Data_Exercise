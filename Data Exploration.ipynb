{
 "cells": [
  {
   "cell_type": "markdown",
   "metadata": {
    "toc": true
   },
   "source": [
    "<h1>Table of Contents<span class=\"tocSkip\"></span></h1>\n",
    "<div class=\"toc\"><ul class=\"toc-item\"><li><span><a href=\"#Project-Information\" data-toc-modified-id=\"Project-Information-1\">Project Information</a></span><ul class=\"toc-item\"><li><span><a href=\"#Import-Libraries\" data-toc-modified-id=\"Import-Libraries-1.1\">Import Libraries</a></span></li><li><span><a href=\"#Import-and-Examine-Data-&amp;-Format\" data-toc-modified-id=\"Import-and-Examine-Data-&amp;-Format-1.2\">Import and Examine Data &amp; Format</a></span><ul class=\"toc-item\"><li><span><a href=\"#Deal-with-Colomns-w/-Strings\" data-toc-modified-id=\"Deal-with-Colomns-w/-Strings-1.2.1\">Deal with Colomns w/ Strings</a></span></li><li><span><a href=\"#Re-examine-Data-now-that-Everything-is-Numeric-or-Boolean\" data-toc-modified-id=\"Re-examine-Data-now-that-Everything-is-Numeric-or-Boolean-1.2.2\">Re-examine Data now that Everything is Numeric or Boolean</a></span></li></ul></li></ul></li></ul></div>"
   ]
  },
  {
   "cell_type": "markdown",
   "metadata": {},
   "source": [
    "# Project Information\n",
    "\n",
    "---\n",
    "\n",
    "**_Dataset Information_**\n",
    "\n",
    "- The dataset contains information about two sets of hospitals, one that participated in a policy intervention designed to improve patient safety `(Treatment = TRUE)`, and one that did not, `(Treatment = FALSE)`.\n",
    "- The goal was to reduce central-line associated blood stream infections (CLABSIs), with lower rates being more desirable. The policy was implemented at the beginning of 2016. \n",
    "- The pre-intervention results are in the `SIR15` column, and the post-intervention results are in the `SIR16` column. \n",
    "- One tab in the Excel file has the data `(HOSPITAL_SAFETY)`, and the other has information on the data `(Data dictionary)`.\n",
    "\n",
    "---\n",
    "\n",
    "**_Tasks_**\n",
    "\n",
    "**We would like you to complete the following tasks:**\n",
    "\n",
    "* Complete an initial analysis of the data to estimate the effect of the intervention on CLABSI rates. (This could include EDA and modeling.)\n",
    "* Communicate your findings to your larger MPR team via a high-level, not-highly-technical email to your colleagues informing them of the results.\n",
    "* Include the code you used to run your analysis.\n",
    "\n",
    "---\n",
    "\n",
    "**_Guidelines_**\n",
    "\n",
    "* Assume your team can use the following types of files: R, R markdown, Python, Jupyter notebook, Microsoft Office Suite, PDF.\n",
    "* You may use any libraries available for R or Python to complete your analysis.\n",
    "* **Prioritize including one or two visualizations or tables that help drive home your findings over lots of prose.**\n",
    "* You may include a list of analytic next steps as part of the email to your team."
   ]
  },
  {
   "cell_type": "markdown",
   "metadata": {},
   "source": [
    "## Import Libraries"
   ]
  },
  {
   "cell_type": "code",
   "execution_count": 156,
   "metadata": {},
   "outputs": [
    {
     "data": {
      "application/javascript": [
       "if (!(\"Notification\" in window)) {\n",
       "    alert(\"This browser does not support desktop notifications, so the %%notify magic will not work.\");\n",
       "} else if (Notification.permission !== 'granted' && Notification.permission !== 'denied') {\n",
       "    Notification.requestPermission(function (permission) {\n",
       "        if(!('permission' in Notification)) {\n",
       "            Notification.permission = permission;\n",
       "        }\n",
       "    })\n",
       "}\n"
      ],
      "text/plain": [
       "<IPython.core.display.Javascript object>"
      ]
     },
     "metadata": {},
     "output_type": "display_data"
    }
   ],
   "source": [
    "import pandas as pd\n",
    "import numpy as np\n",
    "import matplotlib.pyplot as plt\n",
    "%matplotlib inline\n",
    "import seaborn as sns\n",
    "\n",
    "import warnings\n",
    "warnings.filterwarnings('ignore')\n",
    "\n",
    "#!pip install jupyternotify\n",
    "import jupyternotify\n",
    "ip = get_ipython()\n",
    "ip.register_magics(jupyternotify.JupyterNotifyMagics)\n",
    "## Run %%notify to create notification for completed cell"
   ]
  },
  {
   "cell_type": "markdown",
   "metadata": {},
   "source": [
    "## Import and Examine Data & Format"
   ]
  },
  {
   "cell_type": "code",
   "execution_count": 157,
   "metadata": {},
   "outputs": [],
   "source": [
    "df = pd.read_excel('HOSPITAL_SAFETY.xlsx', sheet_name=0)\n",
    "column_info = pd.read_excel('HOSPITAL_SAFETY.xlsx', sheet_name=1, header=None)"
   ]
  },
  {
   "cell_type": "code",
   "execution_count": 158,
   "metadata": {},
   "outputs": [],
   "source": [
    "low_cols = []\n",
    "for col in df.columns:\n",
    "    low_cols.append(col.lower())\n",
    "low_cols[0] = 'hosp_id'\n",
    "df.columns = low_cols"
   ]
  },
  {
   "cell_type": "code",
   "execution_count": 159,
   "metadata": {},
   "outputs": [
    {
     "name": "stdout",
     "output_type": "stream",
     "text": [
      "Hosp.Id\n",
      "Hospital Identifier\n",
      "\n",
      "Name\n",
      "Hospital name\n",
      "\n",
      "County\n",
      "Hospital geographic county\n",
      "\n",
      "Region\n",
      "US Census Division\n",
      "\n",
      "Urban_Rural\n",
      "Defines whether hospital is in an urban or rural location\n",
      "\n",
      "Wage_Index\n",
      "Measures cost of labor in a geographic area, where higher values translates to more expensive staff/higher salaries\n",
      "\n",
      "Resident_To_Beds\n",
      "Number of medical students per hospital beds\n",
      "\n",
      "Beds\n",
      "Number of beds available for patients at the hospital\n",
      "\n",
      "Dshpct\n",
      "Measures the proportion of poor, elderly, frail, or disables patients at a hospital, where higher values indicate greater proportions\n",
      "\n",
      "Cost_To_Charge\n",
      "A measure of profit, where higher values equal greater profit margins\n",
      "\n",
      "Annual_Volume\n",
      "Number of patients seen at the hospital in a given year\n",
      "\n",
      "Casemix\n",
      "Measures patient sickness, where higher levels correspond to sicker or more complex patients\n",
      "\n",
      "Type\n",
      "Hospital type\n",
      "\n",
      "Ownership\n",
      "Hospital ownership\n",
      "\n",
      "Emergency_Services\n",
      "Emergency services available at this hospital\n",
      "\n",
      "Uses_Ehrs\n",
      "Uses approved electronic health records\n",
      "\n",
      "Denom16\n",
      "Number of days patients had a central line in 2016\n",
      "\n",
      "Sir16\n",
      "CLABSI rate in 2016\n",
      "\n",
      "Denom15\n",
      "Number of dates patients had a central line in 2015\n",
      "\n",
      "Sir15\n",
      "CLABSI rate in 2015\n",
      "\n",
      "Treatment\n",
      "Participation in a national demonstration to reduce infections. This intervention included the use of a checklist, best practices, and the employment of a full-time patient safety expert that uses advanced analytics.\n",
      "\n"
     ]
    }
   ],
   "source": [
    "for i in range(len(column_info)):\n",
    "    print(column_info.at[i,0].title())\n",
    "    print(column_info.at[i,1])\n",
    "    print()"
   ]
  },
  {
   "cell_type": "markdown",
   "metadata": {},
   "source": [
    "### Deal with Colomns w/ Strings"
   ]
  },
  {
   "cell_type": "code",
   "execution_count": 160,
   "metadata": {},
   "outputs": [
    {
     "name": "stdout",
     "output_type": "stream",
     "text": [
      "name\n",
      "urban_rural\n",
      "type\n",
      "ownership\n"
     ]
    }
   ],
   "source": [
    "for col in df.columns:\n",
    "    if df[col].dtype == 'O':\n",
    "        print(col)"
   ]
  },
  {
   "cell_type": "code",
   "execution_count": 161,
   "metadata": {
    "scrolled": false
   },
   "outputs": [
    {
     "data": {
      "text/plain": [
       "3148"
      ]
     },
     "execution_count": 161,
     "metadata": {},
     "output_type": "execute_result"
    }
   ],
   "source": [
    "df.name.nunique() # Too many different values, likely unimportant for analysis and can be DROPPED"
   ]
  },
  {
   "cell_type": "code",
   "execution_count": 162,
   "metadata": {},
   "outputs": [
    {
     "data": {
      "text/plain": [
       "LURBAN    1364\n",
       "OURBAN    1109\n",
       "RURAL      790\n",
       "Name: urban_rural, dtype: int64"
      ]
     },
     "execution_count": 162,
     "metadata": {},
     "output_type": "execute_result"
    }
   ],
   "source": [
    "df.urban_rural.value_counts() # Column can be DUMMIFIED since it is categorical"
   ]
  },
  {
   "cell_type": "code",
   "execution_count": 163,
   "metadata": {},
   "outputs": [
    {
     "data": {
      "text/plain": [
       "1"
      ]
     },
     "execution_count": 163,
     "metadata": {},
     "output_type": "execute_result"
    }
   ],
   "source": [
    "df.type.nunique() # Column can be DROPPED since there is only one value in this column"
   ]
  },
  {
   "cell_type": "code",
   "execution_count": 164,
   "metadata": {},
   "outputs": [
    {
     "data": {
      "text/plain": [
       "Voluntary non-profit - Private                 1374\n",
       "Proprietary                                     681\n",
       "Voluntary non-profit - Other                    355\n",
       "Voluntary non-profit - Church                   269\n",
       "Government - Hospital District or Authority     268\n",
       "Government - Local                              169\n",
       "Physician                                        60\n",
       "Government - State                               47\n",
       "Government - Federal                             35\n",
       "Tribal                                            5\n",
       "Name: ownership, dtype: int64"
      ]
     },
     "execution_count": 164,
     "metadata": {},
     "output_type": "execute_result"
    }
   ],
   "source": [
    "df.ownership.value_counts() # Column can likely be DUMMIFIED since there are 10 different unique values"
   ]
  },
  {
   "cell_type": "code",
   "execution_count": 165,
   "metadata": {},
   "outputs": [],
   "source": [
    "drops = ['name', 'type']\n",
    "df = df.drop(columns=drops)"
   ]
  },
  {
   "cell_type": "code",
   "execution_count": 166,
   "metadata": {},
   "outputs": [],
   "source": [
    "df.urban_rural = pd.get_dummies(df.urban_rural)\n",
    "df.ownership = pd.get_dummies(df.ownership)"
   ]
  },
  {
   "cell_type": "markdown",
   "metadata": {},
   "source": [
    "### Re-examine Data now that Everything is Numeric or Boolean"
   ]
  },
  {
   "cell_type": "code",
   "execution_count": 167,
   "metadata": {},
   "outputs": [
    {
     "data": {
      "text/html": [
       "<div>\n",
       "<style scoped>\n",
       "    .dataframe tbody tr th:only-of-type {\n",
       "        vertical-align: middle;\n",
       "    }\n",
       "\n",
       "    .dataframe tbody tr th {\n",
       "        vertical-align: top;\n",
       "    }\n",
       "\n",
       "    .dataframe thead th {\n",
       "        text-align: right;\n",
       "    }\n",
       "</style>\n",
       "<table border=\"1\" class=\"dataframe\">\n",
       "  <thead>\n",
       "    <tr style=\"text-align: right;\">\n",
       "      <th></th>\n",
       "      <th>hosp_id</th>\n",
       "      <th>county</th>\n",
       "      <th>region</th>\n",
       "      <th>urban_rural</th>\n",
       "      <th>wage_index</th>\n",
       "      <th>resident_to_beds</th>\n",
       "      <th>beds</th>\n",
       "      <th>dshpct</th>\n",
       "      <th>cost_to_charge</th>\n",
       "      <th>annual_volume</th>\n",
       "      <th>casemix</th>\n",
       "      <th>ownership</th>\n",
       "      <th>emergency_services</th>\n",
       "      <th>uses_ehrs</th>\n",
       "      <th>denom16</th>\n",
       "      <th>sir16</th>\n",
       "      <th>denom15</th>\n",
       "      <th>sir15</th>\n",
       "      <th>treatment</th>\n",
       "    </tr>\n",
       "  </thead>\n",
       "  <tbody>\n",
       "    <tr>\n",
       "      <th>0</th>\n",
       "      <td>10001</td>\n",
       "      <td>1340</td>\n",
       "      <td>5</td>\n",
       "      <td>0</td>\n",
       "      <td>0.7704</td>\n",
       "      <td>0.0</td>\n",
       "      <td>408</td>\n",
       "      <td>0.29862</td>\n",
       "      <td>0.197</td>\n",
       "      <td>7939</td>\n",
       "      <td>1.750650</td>\n",
       "      <td>0</td>\n",
       "      <td>True</td>\n",
       "      <td>1.0</td>\n",
       "      <td>7264.0</td>\n",
       "      <td>0.688</td>\n",
       "      <td>7117.0</td>\n",
       "      <td>2.816</td>\n",
       "      <td>1.0</td>\n",
       "    </tr>\n",
       "    <tr>\n",
       "      <th>1</th>\n",
       "      <td>10005</td>\n",
       "      <td>1470</td>\n",
       "      <td>5</td>\n",
       "      <td>0</td>\n",
       "      <td>0.8212</td>\n",
       "      <td>0.0</td>\n",
       "      <td>204</td>\n",
       "      <td>0.27654</td>\n",
       "      <td>0.303</td>\n",
       "      <td>4036</td>\n",
       "      <td>1.343089</td>\n",
       "      <td>0</td>\n",
       "      <td>True</td>\n",
       "      <td>1.0</td>\n",
       "      <td>2464.0</td>\n",
       "      <td>0.000</td>\n",
       "      <td>2786.0</td>\n",
       "      <td>2.114</td>\n",
       "      <td>0.0</td>\n",
       "    </tr>\n",
       "    <tr>\n",
       "      <th>2</th>\n",
       "      <td>10006</td>\n",
       "      <td>1380</td>\n",
       "      <td>5</td>\n",
       "      <td>0</td>\n",
       "      <td>0.7325</td>\n",
       "      <td>0.0</td>\n",
       "      <td>358</td>\n",
       "      <td>0.24028</td>\n",
       "      <td>0.186</td>\n",
       "      <td>5132</td>\n",
       "      <td>1.668372</td>\n",
       "      <td>0</td>\n",
       "      <td>True</td>\n",
       "      <td>1.0</td>\n",
       "      <td>8711.0</td>\n",
       "      <td>1.563</td>\n",
       "      <td>11159.0</td>\n",
       "      <td>0.639</td>\n",
       "      <td>0.0</td>\n",
       "    </tr>\n",
       "    <tr>\n",
       "      <th>3</th>\n",
       "      <td>10007</td>\n",
       "      <td>1190</td>\n",
       "      <td>5</td>\n",
       "      <td>0</td>\n",
       "      <td>0.6874</td>\n",
       "      <td>0.0</td>\n",
       "      <td>78</td>\n",
       "      <td>0.19347</td>\n",
       "      <td>0.368</td>\n",
       "      <td>645</td>\n",
       "      <td>1.012308</td>\n",
       "      <td>0</td>\n",
       "      <td>True</td>\n",
       "      <td>1.0</td>\n",
       "      <td>282.0</td>\n",
       "      <td>NaN</td>\n",
       "      <td>48.0</td>\n",
       "      <td>NaN</td>\n",
       "      <td>0.0</td>\n",
       "    </tr>\n",
       "    <tr>\n",
       "      <th>4</th>\n",
       "      <td>10008</td>\n",
       "      <td>1200</td>\n",
       "      <td>5</td>\n",
       "      <td>0</td>\n",
       "      <td>0.6973</td>\n",
       "      <td>0.0</td>\n",
       "      <td>29</td>\n",
       "      <td>0.36918</td>\n",
       "      <td>0.493</td>\n",
       "      <td>285</td>\n",
       "      <td>0.928597</td>\n",
       "      <td>0</td>\n",
       "      <td>True</td>\n",
       "      <td>1.0</td>\n",
       "      <td>55.0</td>\n",
       "      <td>NaN</td>\n",
       "      <td>28.0</td>\n",
       "      <td>NaN</td>\n",
       "      <td>1.0</td>\n",
       "    </tr>\n",
       "  </tbody>\n",
       "</table>\n",
       "</div>"
      ],
      "text/plain": [
       "   hosp_id  county  region  urban_rural  wage_index  resident_to_beds  beds  \\\n",
       "0    10001    1340       5            0      0.7704               0.0   408   \n",
       "1    10005    1470       5            0      0.8212               0.0   204   \n",
       "2    10006    1380       5            0      0.7325               0.0   358   \n",
       "3    10007    1190       5            0      0.6874               0.0    78   \n",
       "4    10008    1200       5            0      0.6973               0.0    29   \n",
       "\n",
       "    dshpct  cost_to_charge  annual_volume   casemix  ownership  \\\n",
       "0  0.29862           0.197           7939  1.750650          0   \n",
       "1  0.27654           0.303           4036  1.343089          0   \n",
       "2  0.24028           0.186           5132  1.668372          0   \n",
       "3  0.19347           0.368            645  1.012308          0   \n",
       "4  0.36918           0.493            285  0.928597          0   \n",
       "\n",
       "   emergency_services  uses_ehrs  denom16  sir16  denom15  sir15  treatment  \n",
       "0                True        1.0   7264.0  0.688   7117.0  2.816        1.0  \n",
       "1                True        1.0   2464.0  0.000   2786.0  2.114        0.0  \n",
       "2                True        1.0   8711.0  1.563  11159.0  0.639        0.0  \n",
       "3                True        1.0    282.0    NaN     48.0    NaN        0.0  \n",
       "4                True        1.0     55.0    NaN     28.0    NaN        1.0  "
      ]
     },
     "execution_count": 167,
     "metadata": {},
     "output_type": "execute_result"
    }
   ],
   "source": [
    "df.head()"
   ]
  },
  {
   "cell_type": "code",
   "execution_count": 168,
   "metadata": {},
   "outputs": [
    {
     "name": "stdout",
     "output_type": "stream",
     "text": [
      "<class 'pandas.core.frame.DataFrame'>\n",
      "RangeIndex: 3263 entries, 0 to 3262\n",
      "Data columns (total 19 columns):\n",
      "hosp_id               3263 non-null int64\n",
      "county                3263 non-null int64\n",
      "region                3263 non-null int64\n",
      "urban_rural           3263 non-null uint8\n",
      "wage_index            3263 non-null float64\n",
      "resident_to_beds      3263 non-null float64\n",
      "beds                  3263 non-null int64\n",
      "dshpct                3263 non-null float64\n",
      "cost_to_charge        3263 non-null float64\n",
      "annual_volume         3263 non-null int64\n",
      "casemix               3263 non-null float64\n",
      "ownership             3263 non-null uint8\n",
      "emergency_services    3263 non-null bool\n",
      "uses_ehrs             3207 non-null float64\n",
      "denom16               3040 non-null float64\n",
      "sir16                 2005 non-null float64\n",
      "denom15               3038 non-null float64\n",
      "sir15                 2038 non-null float64\n",
      "treatment             3010 non-null float64\n",
      "dtypes: bool(1), float64(11), int64(5), uint8(2)\n",
      "memory usage: 417.5 KB\n"
     ]
    }
   ],
   "source": [
    "df.info()"
   ]
  },
  {
   "cell_type": "code",
   "execution_count": 169,
   "metadata": {},
   "outputs": [
    {
     "data": {
      "text/plain": [
       "hosp_id                  0\n",
       "county                   0\n",
       "region                   0\n",
       "urban_rural              0\n",
       "wage_index               0\n",
       "resident_to_beds         0\n",
       "beds                     0\n",
       "dshpct                   0\n",
       "cost_to_charge           0\n",
       "annual_volume            0\n",
       "casemix                  0\n",
       "ownership                0\n",
       "emergency_services       0\n",
       "uses_ehrs               56\n",
       "denom16                223\n",
       "sir16                 1258\n",
       "denom15                225\n",
       "sir15                 1225\n",
       "treatment              253\n",
       "dtype: int64"
      ]
     },
     "execution_count": 169,
     "metadata": {},
     "output_type": "execute_result"
    }
   ],
   "source": [
    "df.isna().sum()"
   ]
  },
  {
   "cell_type": "code",
   "execution_count": 170,
   "metadata": {
    "scrolled": true
   },
   "outputs": [
    {
     "data": {
      "text/plain": [
       "1.0    3207\n",
       "Name: uses_ehrs, dtype: int64"
      ]
     },
     "execution_count": 170,
     "metadata": {},
     "output_type": "execute_result"
    }
   ],
   "source": [
    "df.uses_ehrs.value_counts() # Can be dropped since it's all 1.0 or NaN"
   ]
  },
  {
   "cell_type": "code",
   "execution_count": 181,
   "metadata": {
    "scrolled": false
   },
   "outputs": [
    {
     "data": {
      "image/png": "[encoded data removed]",
      "text/plain": [
       "<Figure size 576x432 with 1 Axes>"
      ]
     },
     "metadata": {
      "needs_background": "light"
     },
     "output_type": "display_data"
    }
   ],
   "source": [
    "plt.figure(figsize=(8, 6))\n",
    "plt.hist(df.sir15, color='g', alpha=0.5, bins=25, label='2015')\n",
    "plt.hist(df.sir16, color='r', alpha=0.5, bins=25, label='2016')\n",
    "plt.title('Comparison of CLABSI Rates from 2015 to 2016', fontsize=16)\n",
    "plt.xlabel('CLABSI Rates (Lower is Better)', fontsize=14)\n",
    "plt.ylabel('Number of Patients', fontsize=14)\n",
    "plt.legend(loc=0)\n",
    "plt.show()"
   ]
  },
  {
   "cell_type": "code",
   "execution_count": 198,
   "metadata": {},
   "outputs": [
    {
     "data": {
      "image/png": "[encoded data removed]",
      "text/plain": [
       "<Figure size 1152x432 with 2 Axes>"
      ]
     },
     "metadata": {
      "needs_background": "light"
     },
     "output_type": "display_data"
    }
   ],
   "source": [
    "plt.figure(figsize=(16, 6))\n",
    "plt.subplot(121)\n",
    "sns.violinplot(df.sir15, color='b', alpha=0.4, bins=25, label='2015')\n",
    "plt.title('CLABSI Rates in 2015', fontsize=16)\n",
    "plt.xlabel('CLABSI Rate', fontsize=14)\n",
    "plt.ylabel('Number of Patients', fontsize=14)\n",
    "plt.subplot(122)\n",
    "sns.violinplot(df.sir16, color='r', alpha=0.4, bins=25, label='2016')\n",
    "plt.title('CLABSI Rates in 2016', fontsize=16)\n",
    "plt.xlabel('Clabsi Rate', fontsize=14)\n",
    "plt.ylabel('Number of Patients', fontsize=14)\n",
    "plt.show()"
   ]
  },
  {
   "cell_type": "code",
   "execution_count": 192,
   "metadata": {},
   "outputs": [
    {
     "name": "stderr",
     "output_type": "stream",
     "text": [
      "No handles with labels found to put in legend.\n"
     ]
    },
    {
     "data": {
      "image/png": "[encoded data removed]",
      "text/plain": [
       "<Figure size 1152x432 with 2 Axes>"
      ]
     },
     "metadata": {
      "needs_background": "light"
     },
     "output_type": "display_data"
    }
   ],
   "source": [
    "plt.figure(figsize=(16, 6))\n",
    "plt.subplot(121)\n",
    "sns.violinplot(df.denom15, color='b', alpha=0.4, bins=25, label='2015')\n",
    "plt.title('Days with Central Line in 2015', fontsize=16)\n",
    "plt.xlabel('Days with Central Line for Patients', fontsize=14)\n",
    "plt.ylabel('Number of Patients', fontsize=14)\n",
    "plt.subplot(122)\n",
    "sns.violinplot(df.denom16, color='r', alpha=0.4, bins=25, label='2016')\n",
    "plt.title('Days with Central Line in 2016', fontsize=16)\n",
    "plt.xlabel('Days with Central Line for Patients', fontsize=14)\n",
    "plt.ylabel('Number of Patients', fontsize=14)\n",
    "plt.legend(loc=0)\n",
    "plt.show()"
   ]
  },
  {
   "cell_type": "code",
   "execution_count": 55,
   "metadata": {},
   "outputs": [
    {
     "data": {
      "text/html": [
       "<div>\n",
       "<style scoped>\n",
       "    .dataframe tbody tr th:only-of-type {\n",
       "        vertical-align: middle;\n",
       "    }\n",
       "\n",
       "    .dataframe tbody tr th {\n",
       "        vertical-align: top;\n",
       "    }\n",
       "\n",
       "    .dataframe thead th {\n",
       "        text-align: right;\n",
       "    }\n",
       "</style>\n",
       "<table border=\"1\" class=\"dataframe\">\n",
       "  <thead>\n",
       "    <tr style=\"text-align: right;\">\n",
       "      <th></th>\n",
       "      <th>hosp_id</th>\n",
       "      <th>name</th>\n",
       "      <th>county</th>\n",
       "      <th>region</th>\n",
       "      <th>urban_rural</th>\n",
       "      <th>wage_index</th>\n",
       "      <th>resident_to_beds</th>\n",
       "      <th>beds</th>\n",
       "      <th>dshpct</th>\n",
       "      <th>cost_to_charge</th>\n",
       "      <th>...</th>\n",
       "      <th>casemix</th>\n",
       "      <th>type</th>\n",
       "      <th>ownership</th>\n",
       "      <th>emergency_services</th>\n",
       "      <th>uses_ehrs</th>\n",
       "      <th>denom16</th>\n",
       "      <th>sir16</th>\n",
       "      <th>denom15</th>\n",
       "      <th>sir15</th>\n",
       "      <th>treatment</th>\n",
       "    </tr>\n",
       "  </thead>\n",
       "  <tbody>\n",
       "    <tr>\n",
       "      <th>0</th>\n",
       "      <td>10001</td>\n",
       "      <td>SOUTHEAST ALABAMA MEDICAL CENTER</td>\n",
       "      <td>1340</td>\n",
       "      <td>5</td>\n",
       "      <td>OURBAN</td>\n",
       "      <td>0.7704</td>\n",
       "      <td>0.0</td>\n",
       "      <td>408</td>\n",
       "      <td>0.29862</td>\n",
       "      <td>0.197</td>\n",
       "      <td>...</td>\n",
       "      <td>1.750650</td>\n",
       "      <td>Acute Care Hospitals</td>\n",
       "      <td>Government - Hospital District or Authority</td>\n",
       "      <td>True</td>\n",
       "      <td>1.0</td>\n",
       "      <td>7264.0</td>\n",
       "      <td>0.688</td>\n",
       "      <td>7117.0</td>\n",
       "      <td>2.816</td>\n",
       "      <td>1.0</td>\n",
       "    </tr>\n",
       "    <tr>\n",
       "      <th>1</th>\n",
       "      <td>10005</td>\n",
       "      <td>MARSHALL MEDICAL CENTER SOUTH</td>\n",
       "      <td>1470</td>\n",
       "      <td>5</td>\n",
       "      <td>RURAL</td>\n",
       "      <td>0.8212</td>\n",
       "      <td>0.0</td>\n",
       "      <td>204</td>\n",
       "      <td>0.27654</td>\n",
       "      <td>0.303</td>\n",
       "      <td>...</td>\n",
       "      <td>1.343089</td>\n",
       "      <td>Acute Care Hospitals</td>\n",
       "      <td>Government - Hospital District or Authority</td>\n",
       "      <td>True</td>\n",
       "      <td>1.0</td>\n",
       "      <td>2464.0</td>\n",
       "      <td>0.000</td>\n",
       "      <td>2786.0</td>\n",
       "      <td>2.114</td>\n",
       "      <td>0.0</td>\n",
       "    </tr>\n",
       "    <tr>\n",
       "      <th>2</th>\n",
       "      <td>10006</td>\n",
       "      <td>ELIZA COFFEE MEMORIAL HOSPITAL</td>\n",
       "      <td>1380</td>\n",
       "      <td>5</td>\n",
       "      <td>OURBAN</td>\n",
       "      <td>0.7325</td>\n",
       "      <td>0.0</td>\n",
       "      <td>358</td>\n",
       "      <td>0.24028</td>\n",
       "      <td>0.186</td>\n",
       "      <td>...</td>\n",
       "      <td>1.668372</td>\n",
       "      <td>Acute Care Hospitals</td>\n",
       "      <td>Government - Hospital District or Authority</td>\n",
       "      <td>True</td>\n",
       "      <td>1.0</td>\n",
       "      <td>8711.0</td>\n",
       "      <td>1.563</td>\n",
       "      <td>11159.0</td>\n",
       "      <td>0.639</td>\n",
       "      <td>0.0</td>\n",
       "    </tr>\n",
       "    <tr>\n",
       "      <th>3</th>\n",
       "      <td>10007</td>\n",
       "      <td>MIZELL MEMORIAL HOSPITAL</td>\n",
       "      <td>1190</td>\n",
       "      <td>5</td>\n",
       "      <td>RURAL</td>\n",
       "      <td>0.6874</td>\n",
       "      <td>0.0</td>\n",
       "      <td>78</td>\n",
       "      <td>0.19347</td>\n",
       "      <td>0.368</td>\n",
       "      <td>...</td>\n",
       "      <td>1.012308</td>\n",
       "      <td>Acute Care Hospitals</td>\n",
       "      <td>Voluntary non-profit - Private</td>\n",
       "      <td>True</td>\n",
       "      <td>1.0</td>\n",
       "      <td>282.0</td>\n",
       "      <td>NaN</td>\n",
       "      <td>48.0</td>\n",
       "      <td>NaN</td>\n",
       "      <td>0.0</td>\n",
       "    </tr>\n",
       "    <tr>\n",
       "      <th>4</th>\n",
       "      <td>10008</td>\n",
       "      <td>CRENSHAW COMMUNITY HOSPITAL</td>\n",
       "      <td>1200</td>\n",
       "      <td>5</td>\n",
       "      <td>RURAL</td>\n",
       "      <td>0.6973</td>\n",
       "      <td>0.0</td>\n",
       "      <td>29</td>\n",
       "      <td>0.36918</td>\n",
       "      <td>0.493</td>\n",
       "      <td>...</td>\n",
       "      <td>0.928597</td>\n",
       "      <td>Acute Care Hospitals</td>\n",
       "      <td>Proprietary</td>\n",
       "      <td>True</td>\n",
       "      <td>1.0</td>\n",
       "      <td>55.0</td>\n",
       "      <td>NaN</td>\n",
       "      <td>28.0</td>\n",
       "      <td>NaN</td>\n",
       "      <td>1.0</td>\n",
       "    </tr>\n",
       "  </tbody>\n",
       "</table>\n",
       "<p>5 rows × 21 columns</p>\n",
       "</div>"
      ],
      "text/plain": [
       "   hosp_id                              name  county  region urban_rural  \\\n",
       "0    10001  SOUTHEAST ALABAMA MEDICAL CENTER    1340       5      OURBAN   \n",
       "1    10005     MARSHALL MEDICAL CENTER SOUTH    1470       5       RURAL   \n",
       "2    10006    ELIZA COFFEE MEMORIAL HOSPITAL    1380       5      OURBAN   \n",
       "3    10007          MIZELL MEMORIAL HOSPITAL    1190       5       RURAL   \n",
       "4    10008       CRENSHAW COMMUNITY HOSPITAL    1200       5       RURAL   \n",
       "\n",
       "   wage_index  resident_to_beds  beds   dshpct  cost_to_charge    ...      \\\n",
       "0      0.7704               0.0   408  0.29862           0.197    ...       \n",
       "1      0.8212               0.0   204  0.27654           0.303    ...       \n",
       "2      0.7325               0.0   358  0.24028           0.186    ...       \n",
       "3      0.6874               0.0    78  0.19347           0.368    ...       \n",
       "4      0.6973               0.0    29  0.36918           0.493    ...       \n",
       "\n",
       "    casemix                  type  \\\n",
       "0  1.750650  Acute Care Hospitals   \n",
       "1  1.343089  Acute Care Hospitals   \n",
       "2  1.668372  Acute Care Hospitals   \n",
       "3  1.012308  Acute Care Hospitals   \n",
       "4  0.928597  Acute Care Hospitals   \n",
       "\n",
       "                                     ownership emergency_services  uses_ehrs  \\\n",
       "0  Government - Hospital District or Authority               True        1.0   \n",
       "1  Government - Hospital District or Authority               True        1.0   \n",
       "2  Government - Hospital District or Authority               True        1.0   \n",
       "3               Voluntary non-profit - Private               True        1.0   \n",
       "4                                  Proprietary               True        1.0   \n",
       "\n",
       "   denom16  sir16  denom15  sir15  treatment  \n",
       "0   7264.0  0.688   7117.0  2.816        1.0  \n",
       "1   2464.0  0.000   2786.0  2.114        0.0  \n",
       "2   8711.0  1.563  11159.0  0.639        0.0  \n",
       "3    282.0    NaN     48.0    NaN        0.0  \n",
       "4     55.0    NaN     28.0    NaN        1.0  \n",
       "\n",
       "[5 rows x 21 columns]"
      ]
     },
     "execution_count": 55,
     "metadata": {},
     "output_type": "execute_result"
    }
   ],
   "source": [
    "df.head()"
   ]
  },
  {
   "cell_type": "code",
   "execution_count": 86,
   "metadata": {},
   "outputs": [
    {
     "name": "stdout",
     "output_type": "stream",
     "text": [
      "WAGE_INDEX\n",
      "Measures cost of labor in a geographic area, where higher values translates to more expensive staff/higher salaries\n"
     ]
    }
   ],
   "source": [
    "print(column_info.at[5,0])\n",
    "print(column_info.at[5,1])"
   ]
  },
  {
   "cell_type": "code",
   "execution_count": 88,
   "metadata": {},
   "outputs": [],
   "source": [
    "# for col in df.columns:\n",
    "#     print(col.title())\n",
    "#     print(df[col].isna().sum(), \"null value(s)\")\n",
    "#     print(df[col].nunique(), \"unique value(s) out of 3263 rows of data\")\n",
    "#     print()"
   ]
  },
  {
   "cell_type": "code",
   "execution_count": 89,
   "metadata": {},
   "outputs": [
    {
     "data": {
      "text/plain": [
       "<matplotlib.axes._subplots.AxesSubplot at 0x126fba208>"
      ]
     },
     "execution_count": 89,
     "metadata": {},
     "output_type": "execute_result"
    },
    {
     "data": {
      "image/png": "[encoded data removed]",
      "text/plain": [
       "<Figure size 432x288 with 1 Axes>"
      ]
     },
     "metadata": {
      "needs_background": "light"
     },
     "output_type": "display_data"
    }
   ],
   "source": [
    "df.treatment.hist()"
   ]
  },
  {
   "cell_type": "code",
   "execution_count": 93,
   "metadata": {},
   "outputs": [
    {
     "name": "stdout",
     "output_type": "stream",
     "text": [
      "count    3263.000000\n",
      "mean        0.978143\n",
      "std         0.210130\n",
      "min         0.397800\n",
      "25%         0.842200\n",
      "50%         0.931500\n",
      "75%         1.032900\n",
      "max         1.934300\n",
      "Name: wage_index, dtype: float64\n"
     ]
    },
    {
     "data": {
      "image/png": "[encoded data removed]",
      "text/plain": [
       "<Figure size 432x288 with 1 Axes>"
      ]
     },
     "metadata": {
      "needs_background": "light"
     },
     "output_type": "display_data"
    }
   ],
   "source": [
    "print(df.wage_index.describe())\n",
    "df.wage_index.hist();"
   ]
  },
  {
   "cell_type": "code",
   "execution_count": null,
   "metadata": {},
   "outputs": [],
   "source": []
  },
  {
   "cell_type": "code",
   "execution_count": null,
   "metadata": {},
   "outputs": [],
   "source": []
  },
  {
   "cell_type": "code",
   "execution_count": null,
   "metadata": {},
   "outputs": [],
   "source": []
  },
  {
   "cell_type": "code",
   "execution_count": null,
   "metadata": {},
   "outputs": [],
   "source": []
  },
  {
   "cell_type": "code",
   "execution_count": null,
   "metadata": {},
   "outputs": [],
   "source": []
  },
  {
   "cell_type": "code",
   "execution_count": null,
   "metadata": {},
   "outputs": [],
   "source": []
  },
  {
   "cell_type": "code",
   "execution_count": null,
   "metadata": {},
   "outputs": [],
   "source": []
  },
  {
   "cell_type": "code",
   "execution_count": null,
   "metadata": {},
   "outputs": [],
   "source": []
  },
  {
   "cell_type": "code",
   "execution_count": null,
   "metadata": {},
   "outputs": [],
   "source": []
  },
  {
   "cell_type": "code",
   "execution_count": null,
   "metadata": {},
   "outputs": [],
   "source": []
  },
  {
   "cell_type": "code",
   "execution_count": null,
   "metadata": {},
   "outputs": [],
   "source": []
  },
  {
   "cell_type": "code",
   "execution_count": null,
   "metadata": {},
   "outputs": [],
   "source": []
  },
  {
   "cell_type": "code",
   "execution_count": null,
   "metadata": {},
   "outputs": [],
   "source": []
  },
  {
   "cell_type": "code",
   "execution_count": null,
   "metadata": {},
   "outputs": [],
   "source": []
  },
  {
   "cell_type": "code",
   "execution_count": null,
   "metadata": {},
   "outputs": [],
   "source": []
  },
  {
   "cell_type": "code",
   "execution_count": null,
   "metadata": {},
   "outputs": [],
   "source": []
  }
 ],
 "metadata": {
  "kernelspec": {
   "display_name": "Python 3",
   "language": "python",
   "name": "python3"
  },
  "language_info": {
   "codemirror_mode": {
    "name": "ipython",
    "version": 3
   },
   "file_extension": ".py",
   "mimetype": "text/x-python",
   "name": "python",
   "nbconvert_exporter": "python",
   "pygments_lexer": "ipython3",
   "version": "3.7.1"
  },
  "toc": {
   "base_numbering": 1,
   "nav_menu": {},
   "number_sections": false,
   "sideBar": true,
   "skip_h1_title": false,
   "title_cell": "Table of Contents",
   "title_sidebar": "Contents",
   "toc_cell": true,
   "toc_position": {},
   "toc_section_display": true,
   "toc_window_display": false
  }
 },
 "nbformat": 4,
 "nbformat_minor": 2
}
